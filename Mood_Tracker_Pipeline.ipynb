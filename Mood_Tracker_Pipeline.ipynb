{
  "nbformat": 4,
  "nbformat_minor": 0,
  "metadata": {
    "colab": {
      "provenance": []
    },
    "kernelspec": {
      "name": "python3",
      "display_name": "Python 3"
    },
    "language_info": {
      "name": "python"
    }
  },
  "cells": [
    {
      "cell_type": "markdown",
      "source": [
        "####Mood Tracker Pipelines\n",
        "\n",
        "allows users to log their **daily experiences in various languages**, classify their mood based on their text entries, and receive motivational messages. The project utilizes a combination of **Hugging Face pipelines**, **OpenAI GPT-3.5-turbo API**, and **Gradio** for a seamless and interactive user interface.\n",
        "\n",
        "\n",
        "In this notebook, we will demonstrate the pipelines: how they work, their inputs, and their outputs.\n",
        "\n",
        "\n",
        "**Authors :**\n",
        "\n",
        "\n",
        "Shahad Mousa Albalawi\n",
        "& Nojood Mohammed Alnahdi"
      ],
      "metadata": {
        "id": "ZWcR0aDSDsZJ"
      }
    },
    {
      "cell_type": "markdown",
      "source": [
        "####Dependencies"
      ],
      "metadata": {
        "id": "L_YW8Jn1ENYc"
      }
    },
    {
      "cell_type": "code",
      "source": [
        "!pip install openai"
      ],
      "metadata": {
        "colab": {
          "base_uri": "https://localhost:8080/"
        },
        "id": "QIP7jGY9ETp3",
        "outputId": "f7c46b40-16dd-479c-aee3-6654940eda2f",
        "collapsed": true
      },
      "execution_count": 17,
      "outputs": [
        {
          "output_type": "stream",
          "name": "stdout",
          "text": [
            "Requirement already satisfied: openai in /usr/local/lib/python3.10/dist-packages (1.44.1)\n",
            "Requirement already satisfied: anyio<5,>=3.5.0 in /usr/local/lib/python3.10/dist-packages (from openai) (3.7.1)\n",
            "Requirement already satisfied: distro<2,>=1.7.0 in /usr/lib/python3/dist-packages (from openai) (1.7.0)\n",
            "Requirement already satisfied: httpx<1,>=0.23.0 in /usr/local/lib/python3.10/dist-packages (from openai) (0.27.2)\n",
            "Requirement already satisfied: jiter<1,>=0.4.0 in /usr/local/lib/python3.10/dist-packages (from openai) (0.5.0)\n",
            "Requirement already satisfied: pydantic<3,>=1.9.0 in /usr/local/lib/python3.10/dist-packages (from openai) (2.9.1)\n",
            "Requirement already satisfied: sniffio in /usr/local/lib/python3.10/dist-packages (from openai) (1.3.1)\n",
            "Requirement already satisfied: tqdm>4 in /usr/local/lib/python3.10/dist-packages (from openai) (4.66.5)\n",
            "Requirement already satisfied: typing-extensions<5,>=4.11 in /usr/local/lib/python3.10/dist-packages (from openai) (4.12.2)\n",
            "Requirement already satisfied: idna>=2.8 in /usr/local/lib/python3.10/dist-packages (from anyio<5,>=3.5.0->openai) (3.8)\n",
            "Requirement already satisfied: exceptiongroup in /usr/local/lib/python3.10/dist-packages (from anyio<5,>=3.5.0->openai) (1.2.2)\n",
            "Requirement already satisfied: certifi in /usr/local/lib/python3.10/dist-packages (from httpx<1,>=0.23.0->openai) (2024.8.30)\n",
            "Requirement already satisfied: httpcore==1.* in /usr/local/lib/python3.10/dist-packages (from httpx<1,>=0.23.0->openai) (1.0.5)\n",
            "Requirement already satisfied: h11<0.15,>=0.13 in /usr/local/lib/python3.10/dist-packages (from httpcore==1.*->httpx<1,>=0.23.0->openai) (0.14.0)\n",
            "Requirement already satisfied: annotated-types>=0.6.0 in /usr/local/lib/python3.10/dist-packages (from pydantic<3,>=1.9.0->openai) (0.7.0)\n",
            "Requirement already satisfied: pydantic-core==2.23.3 in /usr/local/lib/python3.10/dist-packages (from pydantic<3,>=1.9.0->openai) (2.23.3)\n"
          ]
        }
      ]
    },
    {
      "cell_type": "code",
      "source": [
        "!pip install -q python-dotenv==1.0.0"
      ],
      "metadata": {
        "id": "nw1PEGMZmjpN"
      },
      "execution_count": 18,
      "outputs": []
    },
    {
      "cell_type": "code",
      "source": [
        "from transformers import pipeline\n",
        "import pandas as pd\n",
        "from openai import OpenAI\n",
        "import matplotlib.pyplot as plt\n",
        "from dotenv import dotenv_values"
      ],
      "metadata": {
        "id": "seNmn3rYdSLI"
      },
      "execution_count": 19,
      "outputs": []
    },
    {
      "cell_type": "markdown",
      "source": [
        "#### Text Classification Hugging Face Pipeline"
      ],
      "metadata": {
        "id": "KZBFYYoGEVhp"
      }
    },
    {
      "cell_type": "code",
      "execution_count": 20,
      "metadata": {
        "id": "eVFk8XagVKsQ",
        "collapsed": true,
        "colab": {
          "base_uri": "https://localhost:8080/"
        },
        "outputId": "622d00fd-07a3-4522-a2f6-0ea55ac5cbc9"
      },
      "outputs": [
        {
          "output_type": "stream",
          "name": "stderr",
          "text": [
            "/usr/local/lib/python3.10/dist-packages/transformers/tokenization_utils_base.py:1601: FutureWarning: `clean_up_tokenization_spaces` was not set. It will be set to `True` by default. This behavior will be depracted in transformers v4.45, and will be then set to `False` by default. For more details check this issue: https://github.com/huggingface/transformers/issues/31884\n",
            "  warnings.warn(\n"
          ]
        }
      ],
      "source": [
        "#This is a model for a multi-label classification task that classifies text into different emotions. It works only in English.\n",
        "classifier = pipeline(\"text-classification\", model=\"SamLowe/roberta-base-go_emotions\")"
      ]
    },
    {
      "cell_type": "code",
      "source": [
        "# simple test for inputs and outputs of the pipeline\n",
        "result = classifier(\"I am so happy\")\n",
        "label_result = result[0]['label']\n",
        "print(f'Result of the pipeline : {result}')\n",
        "print(f'result of only the label : {label_result}')"
      ],
      "metadata": {
        "colab": {
          "base_uri": "https://localhost:8080/"
        },
        "id": "QTgXChItKZhw",
        "outputId": "4a1f532d-c7df-4a7f-c664-c7ee51299071"
      },
      "execution_count": 21,
      "outputs": [
        {
          "output_type": "stream",
          "name": "stdout",
          "text": [
            "Result of the pipeline : [{'label': 'joy', 'score': 0.9051513671875}]\n",
            "result of only the label : joy\n"
          ]
        }
      ]
    },
    {
      "cell_type": "markdown",
      "source": [
        "#### Translation Hugging Face Pipeline"
      ],
      "metadata": {
        "id": "pmIHXxS3EeJJ"
      }
    },
    {
      "cell_type": "code",
      "source": [
        "# This is a model for a translation task, designed to translate text.\n",
        "# We use it to translate any non-English text into English, so the classifier can then classify the emotions.\n",
        "\n",
        "translator = pipeline(task=\"translation\", model=\"facebook/nllb-200-distilled-600M\")\n",
        "languages = {\n",
        "    \"English\": \"eng_Latn\",\n",
        "    \"French\": \"fra_Latn\",\n",
        "    \"Arabic\": \"arb_Arab\",\n",
        "    \"Spanish\": \"spa_Latn\",\n",
        "    \"German\": \"deu_Latn\",\n",
        "    \"Chinese\": \"zho_Hans\",\n",
        "    \"Hindi\": \"hin_Deva\"\n",
        "}"
      ],
      "metadata": {
        "collapsed": true,
        "id": "2iSNTiH4XMPZ"
      },
      "execution_count": 22,
      "outputs": []
    },
    {
      "cell_type": "code",
      "source": [
        "# simple test for inputs and outputs of the pipeline\n",
        "result = translator(\"así es la vida\", src_lang=languages['Spanish'], tgt_lang= languages[\"French\"])\n",
        "translated_text = result[0]['translation_text']\n",
        "print(f'Result of the pipeline : {result}')\n",
        "print(f'result of only the translated text : {translated_text}')"
      ],
      "metadata": {
        "colab": {
          "base_uri": "https://localhost:8080/"
        },
        "id": "mcEqILXrJf4y",
        "outputId": "3d0a2ffe-a225-4064-a749-7b80c903dc88"
      },
      "execution_count": 23,
      "outputs": [
        {
          "output_type": "stream",
          "name": "stdout",
          "text": [
            "Result of the pipeline : [{'translation_text': \"C'est comme ça que la vie est\"}]\n",
            "result of only the translated text : C'est comme ça que la vie est\n"
          ]
        }
      ]
    },
    {
      "cell_type": "markdown",
      "source": [
        "#### openAI API"
      ],
      "metadata": {
        "id": "g-7bv8f_EiTu"
      }
    },
    {
      "cell_type": "code",
      "source": [
        "# prepare openAI client with our api key\n",
        "env_values = dotenv_values(\"./app.env\")\n",
        "client = OpenAI(\n",
        "    api_key= env_values['OPENAI_API_KEY'],)"
      ],
      "metadata": {
        "id": "DDI_Gr5MJRxA"
      },
      "execution_count": 24,
      "outputs": []
    },
    {
      "cell_type": "code",
      "source": [
        "# simple test for client of openAI\n",
        "chat_completion = client.chat.completions.create(\n",
        "    messages=[\n",
        "        {\n",
        "            \"role\": \"user\",\n",
        "            \"content\": \"Say hello!\",\n",
        "        }\n",
        "    ],\n",
        "    model=\"gpt-3.5-turbo\",\n",
        ")\n",
        "\n",
        "content_only = chat_completion.choices[0].message.content\n",
        "print(f'Result : {chat_completion}')\n",
        "print(f'result of only the content : {content_only}')"
      ],
      "metadata": {
        "colab": {
          "base_uri": "https://localhost:8080/"
        },
        "id": "z-Ybz2GmLYME",
        "outputId": "56184cf1-7f9d-4eab-f099-17e284f5ab66"
      },
      "execution_count": 25,
      "outputs": [
        {
          "output_type": "stream",
          "name": "stdout",
          "text": [
            "Result : ChatCompletion(id='chatcmpl-A6jKXsC5NicUVKCbdbo6CCOshUTvI', choices=[Choice(finish_reason='stop', index=0, logprobs=None, message=ChatCompletionMessage(content='Hello! How can I assist you today?', refusal=None, role='assistant', function_call=None, tool_calls=None))], created=1726167581, model='gpt-3.5-turbo-0125', object='chat.completion', service_tier=None, system_fingerprint=None, usage=CompletionUsage(completion_tokens=9, prompt_tokens=10, total_tokens=19))\n",
            "result of only the content : Hello! How can I assist you today?\n"
          ]
        }
      ]
    },
    {
      "cell_type": "markdown",
      "source": [
        "#### Dataframe using pandas"
      ],
      "metadata": {
        "id": "vmo7gWOIElDE"
      }
    },
    {
      "cell_type": "code",
      "source": [
        "# Create a DataFrame to store user entries and perform analysis.\n",
        "\n",
        "structure = {\n",
        "    'Date': [],\n",
        "    'Text': [],\n",
        "    'Mood': []\n",
        "}\n",
        "df = pd.DataFrame(structure)"
      ],
      "metadata": {
        "id": "u6OlBDBdXmm3"
      },
      "execution_count": 26,
      "outputs": []
    },
    {
      "cell_type": "markdown",
      "source": [
        "#### Putting it all together"
      ],
      "metadata": {
        "id": "AfSO7ePwEo_Z"
      }
    },
    {
      "cell_type": "code",
      "source": [
        "# Take the text and its source language, translate it to English, so that the classifier can perform the task.\n",
        "def translator_text(text, src_lang):\n",
        "  translation = translator(text, src_lang=src_lang, tgt_lang=\"eng_Latn\")\n",
        "  return translation[0]['translation_text']"
      ],
      "metadata": {
        "id": "oAKKTVref1YV"
      },
      "execution_count": 27,
      "outputs": []
    },
    {
      "cell_type": "code",
      "source": [
        "# Take all the inputs from the user, including the mood (result from the classifier), and append them to the DataFrame.\n",
        "def appender(date, text, mood):\n",
        "  global df\n",
        "  new_row = pd.DataFrame({'Date': [date], 'Text': [text], 'Mood': [mood]})\n",
        "  df = pd.concat([df, new_row], ignore_index=True)"
      ],
      "metadata": {
        "id": "CUm_j4gKgbbt"
      },
      "execution_count": 28,
      "outputs": []
    },
    {
      "cell_type": "code",
      "source": [
        "#Taking input entries from user\n",
        "date = input(\"Enter Date (YYYY-MM-DD): \")\n",
        "src_lang = input(\"Select a Language (English, French, Arabic, Spanish, German, Chinese, Hindi): \") #\n",
        "text = input(\"What's happened today? \")\n",
        "\n",
        "#translator pipeline\n",
        "if src_lang!= 'English':\n",
        "  text = translator_text(text, languages[src_lang])\n",
        "\n",
        "#Classifier pipeline\n",
        "mood = classifier(text)[0]['label']\n",
        "\n",
        "#openAI client\n",
        "chat_completion = client.chat.completions.create(\n",
        "    messages=[\n",
        "        {\n",
        "            \"role\": \"user\",\n",
        "            \"content\": f\"I feel{mood}, can you tell me a message, without any introductory phrase, just the message itself.\",\n",
        "        }\n",
        "    ],\n",
        "    model=\"gpt-3.5-turbo\",\n",
        ")\n",
        "\n",
        "#append to dataframe\n",
        "appender(date, text, mood)\n",
        "\n",
        "#output messages\n",
        "print(f\"Today you're feeling {mood}\")\n",
        "print(chat_completion.choices[0].message.content)"
      ],
      "metadata": {
        "colab": {
          "base_uri": "https://localhost:8080/"
        },
        "id": "uQwU1CAXIuUO",
        "outputId": "d624a4d5-02bc-4f2c-d050-f5332bf81bdb"
      },
      "execution_count": 29,
      "outputs": [
        {
          "output_type": "stream",
          "name": "stdout",
          "text": [
            "Enter Date (YYYY-MM-DD): 2024-09-12\n",
            "Select a Language (English, French, Arabic, Spanish, German, Chinese, Hindi): English\n",
            "What's happened today? I feel happy\n",
            "Today you're feeling joy\n",
            "You are capable of achieving amazing things. Believe in yourself and never give up.\n"
          ]
        }
      ]
    },
    {
      "cell_type": "code",
      "source": [
        "# our DataFrame\n",
        "df"
      ],
      "metadata": {
        "colab": {
          "base_uri": "https://localhost:8080/",
          "height": 89
        },
        "id": "f8SHUzJ6JdUQ",
        "outputId": "002b3f4d-550c-4f2e-d07a-1757be4d9582"
      },
      "execution_count": 30,
      "outputs": [
        {
          "output_type": "execute_result",
          "data": {
            "text/plain": [
              "         Date          Text Mood\n",
              "0  2024-09-12  I feel happy  joy"
            ],
            "text/html": [
              "\n",
              "  <div id=\"df-a03f40aa-a431-4454-8ad6-c0101b78e04c\" class=\"colab-df-container\">\n",
              "    <div>\n",
              "<style scoped>\n",
              "    .dataframe tbody tr th:only-of-type {\n",
              "        vertical-align: middle;\n",
              "    }\n",
              "\n",
              "    .dataframe tbody tr th {\n",
              "        vertical-align: top;\n",
              "    }\n",
              "\n",
              "    .dataframe thead th {\n",
              "        text-align: right;\n",
              "    }\n",
              "</style>\n",
              "<table border=\"1\" class=\"dataframe\">\n",
              "  <thead>\n",
              "    <tr style=\"text-align: right;\">\n",
              "      <th></th>\n",
              "      <th>Date</th>\n",
              "      <th>Text</th>\n",
              "      <th>Mood</th>\n",
              "    </tr>\n",
              "  </thead>\n",
              "  <tbody>\n",
              "    <tr>\n",
              "      <th>0</th>\n",
              "      <td>2024-09-12</td>\n",
              "      <td>I feel happy</td>\n",
              "      <td>joy</td>\n",
              "    </tr>\n",
              "  </tbody>\n",
              "</table>\n",
              "</div>\n",
              "    <div class=\"colab-df-buttons\">\n",
              "\n",
              "  <div class=\"colab-df-container\">\n",
              "    <button class=\"colab-df-convert\" onclick=\"convertToInteractive('df-a03f40aa-a431-4454-8ad6-c0101b78e04c')\"\n",
              "            title=\"Convert this dataframe to an interactive table.\"\n",
              "            style=\"display:none;\">\n",
              "\n",
              "  <svg xmlns=\"http://www.w3.org/2000/svg\" height=\"24px\" viewBox=\"0 -960 960 960\">\n",
              "    <path d=\"M120-120v-720h720v720H120Zm60-500h600v-160H180v160Zm220 220h160v-160H400v160Zm0 220h160v-160H400v160ZM180-400h160v-160H180v160Zm440 0h160v-160H620v160ZM180-180h160v-160H180v160Zm440 0h160v-160H620v160Z\"/>\n",
              "  </svg>\n",
              "    </button>\n",
              "\n",
              "  <style>\n",
              "    .colab-df-container {\n",
              "      display:flex;\n",
              "      gap: 12px;\n",
              "    }\n",
              "\n",
              "    .colab-df-convert {\n",
              "      background-color: #E8F0FE;\n",
              "      border: none;\n",
              "      border-radius: 50%;\n",
              "      cursor: pointer;\n",
              "      display: none;\n",
              "      fill: #1967D2;\n",
              "      height: 32px;\n",
              "      padding: 0 0 0 0;\n",
              "      width: 32px;\n",
              "    }\n",
              "\n",
              "    .colab-df-convert:hover {\n",
              "      background-color: #E2EBFA;\n",
              "      box-shadow: 0px 1px 2px rgba(60, 64, 67, 0.3), 0px 1px 3px 1px rgba(60, 64, 67, 0.15);\n",
              "      fill: #174EA6;\n",
              "    }\n",
              "\n",
              "    .colab-df-buttons div {\n",
              "      margin-bottom: 4px;\n",
              "    }\n",
              "\n",
              "    [theme=dark] .colab-df-convert {\n",
              "      background-color: #3B4455;\n",
              "      fill: #D2E3FC;\n",
              "    }\n",
              "\n",
              "    [theme=dark] .colab-df-convert:hover {\n",
              "      background-color: #434B5C;\n",
              "      box-shadow: 0px 1px 3px 1px rgba(0, 0, 0, 0.15);\n",
              "      filter: drop-shadow(0px 1px 2px rgba(0, 0, 0, 0.3));\n",
              "      fill: #FFFFFF;\n",
              "    }\n",
              "  </style>\n",
              "\n",
              "    <script>\n",
              "      const buttonEl =\n",
              "        document.querySelector('#df-a03f40aa-a431-4454-8ad6-c0101b78e04c button.colab-df-convert');\n",
              "      buttonEl.style.display =\n",
              "        google.colab.kernel.accessAllowed ? 'block' : 'none';\n",
              "\n",
              "      async function convertToInteractive(key) {\n",
              "        const element = document.querySelector('#df-a03f40aa-a431-4454-8ad6-c0101b78e04c');\n",
              "        const dataTable =\n",
              "          await google.colab.kernel.invokeFunction('convertToInteractive',\n",
              "                                                    [key], {});\n",
              "        if (!dataTable) return;\n",
              "\n",
              "        const docLinkHtml = 'Like what you see? Visit the ' +\n",
              "          '<a target=\"_blank\" href=https://colab.research.google.com/notebooks/data_table.ipynb>data table notebook</a>'\n",
              "          + ' to learn more about interactive tables.';\n",
              "        element.innerHTML = '';\n",
              "        dataTable['output_type'] = 'display_data';\n",
              "        await google.colab.output.renderOutput(dataTable, element);\n",
              "        const docLink = document.createElement('div');\n",
              "        docLink.innerHTML = docLinkHtml;\n",
              "        element.appendChild(docLink);\n",
              "      }\n",
              "    </script>\n",
              "  </div>\n",
              "\n",
              "\n",
              "  <div id=\"id_2ef3361f-6402-4d95-943a-bb718b52aa41\">\n",
              "    <style>\n",
              "      .colab-df-generate {\n",
              "        background-color: #E8F0FE;\n",
              "        border: none;\n",
              "        border-radius: 50%;\n",
              "        cursor: pointer;\n",
              "        display: none;\n",
              "        fill: #1967D2;\n",
              "        height: 32px;\n",
              "        padding: 0 0 0 0;\n",
              "        width: 32px;\n",
              "      }\n",
              "\n",
              "      .colab-df-generate:hover {\n",
              "        background-color: #E2EBFA;\n",
              "        box-shadow: 0px 1px 2px rgba(60, 64, 67, 0.3), 0px 1px 3px 1px rgba(60, 64, 67, 0.15);\n",
              "        fill: #174EA6;\n",
              "      }\n",
              "\n",
              "      [theme=dark] .colab-df-generate {\n",
              "        background-color: #3B4455;\n",
              "        fill: #D2E3FC;\n",
              "      }\n",
              "\n",
              "      [theme=dark] .colab-df-generate:hover {\n",
              "        background-color: #434B5C;\n",
              "        box-shadow: 0px 1px 3px 1px rgba(0, 0, 0, 0.15);\n",
              "        filter: drop-shadow(0px 1px 2px rgba(0, 0, 0, 0.3));\n",
              "        fill: #FFFFFF;\n",
              "      }\n",
              "    </style>\n",
              "    <button class=\"colab-df-generate\" onclick=\"generateWithVariable('df')\"\n",
              "            title=\"Generate code using this dataframe.\"\n",
              "            style=\"display:none;\">\n",
              "\n",
              "  <svg xmlns=\"http://www.w3.org/2000/svg\" height=\"24px\"viewBox=\"0 0 24 24\"\n",
              "       width=\"24px\">\n",
              "    <path d=\"M7,19H8.4L18.45,9,17,7.55,7,17.6ZM5,21V16.75L18.45,3.32a2,2,0,0,1,2.83,0l1.4,1.43a1.91,1.91,0,0,1,.58,1.4,1.91,1.91,0,0,1-.58,1.4L9.25,21ZM18.45,9,17,7.55Zm-12,3A5.31,5.31,0,0,0,4.9,8.1,5.31,5.31,0,0,0,1,6.5,5.31,5.31,0,0,0,4.9,4.9,5.31,5.31,0,0,0,6.5,1,5.31,5.31,0,0,0,8.1,4.9,5.31,5.31,0,0,0,12,6.5,5.46,5.46,0,0,0,6.5,12Z\"/>\n",
              "  </svg>\n",
              "    </button>\n",
              "    <script>\n",
              "      (() => {\n",
              "      const buttonEl =\n",
              "        document.querySelector('#id_2ef3361f-6402-4d95-943a-bb718b52aa41 button.colab-df-generate');\n",
              "      buttonEl.style.display =\n",
              "        google.colab.kernel.accessAllowed ? 'block' : 'none';\n",
              "\n",
              "      buttonEl.onclick = () => {\n",
              "        google.colab.notebook.generateWithVariable('df');\n",
              "      }\n",
              "      })();\n",
              "    </script>\n",
              "  </div>\n",
              "\n",
              "    </div>\n",
              "  </div>\n"
            ],
            "application/vnd.google.colaboratory.intrinsic+json": {
              "type": "dataframe",
              "variable_name": "df",
              "summary": "{\n  \"name\": \"df\",\n  \"rows\": 1,\n  \"fields\": [\n    {\n      \"column\": \"Date\",\n      \"properties\": {\n        \"dtype\": \"object\",\n        \"num_unique_values\": 1,\n        \"samples\": [\n          \"2024-09-12\"\n        ],\n        \"semantic_type\": \"\",\n        \"description\": \"\"\n      }\n    },\n    {\n      \"column\": \"Text\",\n      \"properties\": {\n        \"dtype\": \"string\",\n        \"num_unique_values\": 1,\n        \"samples\": [\n          \"I feel happy\"\n        ],\n        \"semantic_type\": \"\",\n        \"description\": \"\"\n      }\n    },\n    {\n      \"column\": \"Mood\",\n      \"properties\": {\n        \"dtype\": \"string\",\n        \"num_unique_values\": 1,\n        \"samples\": [\n          \"joy\"\n        ],\n        \"semantic_type\": \"\",\n        \"description\": \"\"\n      }\n    }\n  ]\n}"
            }
          },
          "metadata": {},
          "execution_count": 30
        }
      ]
    },
    {
      "cell_type": "code",
      "source": [
        "# visulize utilize matplot\n",
        "mood_counts = df['Mood'].value_counts()\n",
        "plt.figure(figsize=(10, 6))\n",
        "plt.bar(mood_counts.index, mood_counts.values, color=['#ff9999', '#66b3ff', '#99ff99', '#ffcc99'])\n",
        "plt.title('Mood Frequency')\n",
        "plt.xlabel('Mood')\n",
        "plt.ylabel('Frequency')\n",
        "plt.tight_layout()\n",
        "\n",
        "plt.show()"
      ],
      "metadata": {
        "colab": {
          "base_uri": "https://localhost:8080/",
          "height": 594
        },
        "id": "m2tUgWKIJZlW",
        "outputId": "04c93132-56a8-48bc-fb48-0a50cb82fcff"
      },
      "execution_count": 31,
      "outputs": [
        {
          "output_type": "display_data",
          "data": {
            "text/plain": [
              "<Figure size 1000x600 with 1 Axes>"
            ],
            "image/png": "[encoded data removed]"
          },
          "metadata": {}
        }
      ]
    },
    {
      "cell_type": "code",
      "source": [],
      "metadata": {
        "id": "ZXAK855oNqAP"
      },
      "execution_count": 31,
      "outputs": []
    }
  ]
}